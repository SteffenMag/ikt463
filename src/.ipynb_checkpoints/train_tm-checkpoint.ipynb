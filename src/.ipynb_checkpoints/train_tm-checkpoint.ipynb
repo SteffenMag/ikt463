{
 "cells": [
  {
   "cell_type": "code",
   "execution_count": 2,
   "metadata": {},
   "outputs": [],
   "source": [
    "# Preprocess data to fit the model\n",
    "import numpy as np\n",
    "import pandas as pd\n",
    "import warnings\n",
    "from sklearn.model_selection import train_test_split\n",
    "from sklearn.metrics import r2_score, mean_squared_error\n",
    "\n",
    "df = pd.read_csv('../data/data.csv',delimiter=';')\\\n",
    "# Replace symbols in column names with underlines\n",
    "df.columns = df.columns.str.replace('(', '')\n",
    "df.columns = df.columns.str.replace(')', '')\n",
    "df.columns = df.columns.str.replace('/', ' ')\n",
    "df.columns = df.columns.str.replace(\"'\", '')\n",
    "df.columns = df.columns.str.replace(' ', '_')\n",
    "\n",
    "# drop these columns - Previous qualification grade\n",
    "# - Mothers qualification\n",
    "#- Fathers qualification\n",
    "#- Mothers occupation\n",
    "#- Fathers occupation\n",
    "#- Admission grade\n",
    "#- Age at enrollment\n",
    "#- Curricular_units_2nd_sem_grade\n",
    "#- Unemployment_rate\n",
    "#- Inflation_rate\n",
    "#- GDP\n",
    "\n",
    "df = df.drop(['Application_mode','Course','Previous_qualification_grade', 'Mothers_qualification', 'Fathers_qualification', 'Mothers_occupation', 'Fathers_occupation', 'Admission_grade', 'Age_at_enrollment', 'Unemployment_rate', 'Inflation_rate', 'GDP'], axis=1)\n",
    "\n",
    "\n"
   ]
  },
  {
   "cell_type": "code",
   "execution_count": 3,
   "metadata": {},
   "outputs": [],
   "source": [
    "def categorize_col(col, col_name):\n",
    "    quantiles = pd.qcut(col, q=3, duplicates=\"drop\")\n",
    "    unique_bins = quantiles.cat.categories.size  # Number of unique bins after dropping duplicates\n",
    "    labels = [f\"{col_name}_low\", f\"{col_name}_medium\", f\"{col_name}_high\"][:unique_bins]\n",
    "\n",
    "    quantiles = pd.qcut(col, q=unique_bins, labels=labels)\n",
    "    #quantiles = pd.qcut(col, q=3, labels=[\"low\", \"medium\", \"high\"], duplicates=\"drop\")\n",
    "    return pd.get_dummies(quantiles)"
   ]
  },
  {
   "cell_type": "markdown",
   "metadata": {},
   "source": [
    "Features to exclude:\n",
    "\n",
    "- Previous qualification grade\n",
    "- Mothers qualification\n",
    "- Fathers qualification\n",
    "- Mothers occupation\n",
    "- Fathers occupation\n",
    "- Only nacionality 1??\n",
    "- Admission grade\n",
    "- Age at enrollment\n",
    "- Curricular_units_2nd_sem_grade\n",
    "- Unemployment_rate\n",
    "- Inflation_rate\n",
    "- GDP\n",
    "\n",
    "Columns that dont need transformation:\n",
    "- Daytime/evening\n",
    "- Displaced\n",
    "- Educational_special_needs\n",
    "- Debtor\n",
    "- Tuition_fees_up_to_date\n",
    "- Gender\n",
    "- Scholarship_holder\n",
    "- International"
   ]
  },
  {
   "cell_type": "code",
   "execution_count": 7,
   "metadata": {},
   "outputs": [
    {
     "data": {
      "text/html": [
       "<div>\n",
       "<style scoped>\n",
       "    .dataframe tbody tr th:only-of-type {\n",
       "        vertical-align: middle;\n",
       "    }\n",
       "\n",
       "    .dataframe tbody tr th {\n",
       "        vertical-align: top;\n",
       "    }\n",
       "\n",
       "    .dataframe thead th {\n",
       "        text-align: right;\n",
       "    }\n",
       "</style>\n",
       "<table border=\"1\" class=\"dataframe\">\n",
       "  <thead>\n",
       "    <tr style=\"text-align: right;\">\n",
       "      <th></th>\n",
       "      <th>Daytime_evening_attendance</th>\n",
       "      <th>Previous_qualification</th>\n",
       "      <th>Nacionality</th>\n",
       "      <th>Displaced</th>\n",
       "      <th>Educational_special_needs</th>\n",
       "      <th>Debtor</th>\n",
       "      <th>Tuition_fees_up_to_date</th>\n",
       "      <th>Gender</th>\n",
       "      <th>Scholarship_holder</th>\n",
       "      <th>International</th>\n",
       "      <th>...</th>\n",
       "      <th>Marital_status_5</th>\n",
       "      <th>Marital_status_6</th>\n",
       "      <th>Application_order_0</th>\n",
       "      <th>Application_order_1</th>\n",
       "      <th>Application_order_2</th>\n",
       "      <th>Application_order_3</th>\n",
       "      <th>Application_order_4</th>\n",
       "      <th>Application_order_5</th>\n",
       "      <th>Application_order_6</th>\n",
       "      <th>Application_order_9</th>\n",
       "    </tr>\n",
       "  </thead>\n",
       "  <tbody>\n",
       "    <tr>\n",
       "      <th>0</th>\n",
       "      <td>1</td>\n",
       "      <td>0</td>\n",
       "      <td>1</td>\n",
       "      <td>1</td>\n",
       "      <td>0</td>\n",
       "      <td>0</td>\n",
       "      <td>1</td>\n",
       "      <td>1</td>\n",
       "      <td>0</td>\n",
       "      <td>0</td>\n",
       "      <td>...</td>\n",
       "      <td>0</td>\n",
       "      <td>0</td>\n",
       "      <td>0</td>\n",
       "      <td>0</td>\n",
       "      <td>0</td>\n",
       "      <td>0</td>\n",
       "      <td>0</td>\n",
       "      <td>1</td>\n",
       "      <td>0</td>\n",
       "      <td>0</td>\n",
       "    </tr>\n",
       "    <tr>\n",
       "      <th>1</th>\n",
       "      <td>1</td>\n",
       "      <td>0</td>\n",
       "      <td>1</td>\n",
       "      <td>1</td>\n",
       "      <td>0</td>\n",
       "      <td>0</td>\n",
       "      <td>0</td>\n",
       "      <td>1</td>\n",
       "      <td>0</td>\n",
       "      <td>0</td>\n",
       "      <td>...</td>\n",
       "      <td>0</td>\n",
       "      <td>0</td>\n",
       "      <td>0</td>\n",
       "      <td>1</td>\n",
       "      <td>0</td>\n",
       "      <td>0</td>\n",
       "      <td>0</td>\n",
       "      <td>0</td>\n",
       "      <td>0</td>\n",
       "      <td>0</td>\n",
       "    </tr>\n",
       "    <tr>\n",
       "      <th>2</th>\n",
       "      <td>1</td>\n",
       "      <td>0</td>\n",
       "      <td>1</td>\n",
       "      <td>1</td>\n",
       "      <td>0</td>\n",
       "      <td>0</td>\n",
       "      <td>0</td>\n",
       "      <td>1</td>\n",
       "      <td>0</td>\n",
       "      <td>0</td>\n",
       "      <td>...</td>\n",
       "      <td>0</td>\n",
       "      <td>0</td>\n",
       "      <td>0</td>\n",
       "      <td>0</td>\n",
       "      <td>0</td>\n",
       "      <td>0</td>\n",
       "      <td>0</td>\n",
       "      <td>1</td>\n",
       "      <td>0</td>\n",
       "      <td>0</td>\n",
       "    </tr>\n",
       "    <tr>\n",
       "      <th>3</th>\n",
       "      <td>1</td>\n",
       "      <td>0</td>\n",
       "      <td>1</td>\n",
       "      <td>1</td>\n",
       "      <td>0</td>\n",
       "      <td>0</td>\n",
       "      <td>1</td>\n",
       "      <td>0</td>\n",
       "      <td>0</td>\n",
       "      <td>0</td>\n",
       "      <td>...</td>\n",
       "      <td>0</td>\n",
       "      <td>0</td>\n",
       "      <td>0</td>\n",
       "      <td>0</td>\n",
       "      <td>1</td>\n",
       "      <td>0</td>\n",
       "      <td>0</td>\n",
       "      <td>0</td>\n",
       "      <td>0</td>\n",
       "      <td>0</td>\n",
       "    </tr>\n",
       "    <tr>\n",
       "      <th>4</th>\n",
       "      <td>0</td>\n",
       "      <td>0</td>\n",
       "      <td>1</td>\n",
       "      <td>0</td>\n",
       "      <td>0</td>\n",
       "      <td>0</td>\n",
       "      <td>1</td>\n",
       "      <td>0</td>\n",
       "      <td>0</td>\n",
       "      <td>0</td>\n",
       "      <td>...</td>\n",
       "      <td>0</td>\n",
       "      <td>0</td>\n",
       "      <td>0</td>\n",
       "      <td>1</td>\n",
       "      <td>0</td>\n",
       "      <td>0</td>\n",
       "      <td>0</td>\n",
       "      <td>0</td>\n",
       "      <td>0</td>\n",
       "      <td>0</td>\n",
       "    </tr>\n",
       "  </tbody>\n",
       "</table>\n",
       "<p>5 rows × 59 columns</p>\n",
       "</div>"
      ],
      "text/plain": [
       "   Daytime_evening_attendance  Previous_qualification  Nacionality  Displaced  \\\n",
       "0                           1                       0            1          1   \n",
       "1                           1                       0            1          1   \n",
       "2                           1                       0            1          1   \n",
       "3                           1                       0            1          1   \n",
       "4                           0                       0            1          0   \n",
       "\n",
       "   Educational_special_needs  Debtor  Tuition_fees_up_to_date  Gender  \\\n",
       "0                          0       0                        1       1   \n",
       "1                          0       0                        0       1   \n",
       "2                          0       0                        0       1   \n",
       "3                          0       0                        1       0   \n",
       "4                          0       0                        1       0   \n",
       "\n",
       "   Scholarship_holder  International  ...  Marital_status_5  Marital_status_6  \\\n",
       "0                   0              0  ...                 0                 0   \n",
       "1                   0              0  ...                 0                 0   \n",
       "2                   0              0  ...                 0                 0   \n",
       "3                   0              0  ...                 0                 0   \n",
       "4                   0              0  ...                 0                 0   \n",
       "\n",
       "   Application_order_0  Application_order_1 Application_order_2  \\\n",
       "0                    0                    0                   0   \n",
       "1                    0                    1                   0   \n",
       "2                    0                    0                   0   \n",
       "3                    0                    0                   1   \n",
       "4                    0                    1                   0   \n",
       "\n",
       "   Application_order_3  Application_order_4  Application_order_5  \\\n",
       "0                    0                    0                    1   \n",
       "1                    0                    0                    0   \n",
       "2                    0                    0                    1   \n",
       "3                    0                    0                    0   \n",
       "4                    0                    0                    0   \n",
       "\n",
       "   Application_order_6  Application_order_9  \n",
       "0                    0                    0  \n",
       "1                    0                    0  \n",
       "2                    0                    0  \n",
       "3                    0                    0  \n",
       "4                    0                    0  \n",
       "\n",
       "[5 rows x 59 columns]"
      ]
     },
     "metadata": {},
     "output_type": "display_data"
    }
   ],
   "source": [
    "# do some processing to the data, so that the tm can train properly\n",
    "# only keep the students with nacionality 1\n",
    "#df = df[df['Nacionality'] == 1]\n",
    "#df = df[df['Previous_qualification'] == 1]\n",
    "#df = df.drop(['Nacionality', 'Previous_qualification'], axis=1)\n",
    "df_copy = df.copy()\n",
    "\n",
    "categorize_cols = ['Curricular_units_1st_sem_grade', 'Curricular_units_1st_sem_approved', 'Curricular_units_1st_sem_enrolled', \n",
    "                   'Curricular_units_1st_sem_evaluations','Curricular_units_2nd_sem_grade', 'Curricular_units_2nd_sem_approved', 'Curricular_units_2nd_sem_enrolled', \n",
    "                   'Curricular_units_2nd_sem_evaluations']\n",
    "\n",
    "binarize_cols = ['Curricular_units_1st_sem_credited','Curricular_units_1st_sem_without_evaluations', 'Curricular_units_2nd_sem_credited', 'Curricular_units_2nd_sem_without_evaluations', 'Previous_qualification']\n",
    "\n",
    "for col in categorize_cols:\n",
    "    column = df_copy[f'{col}']\n",
    "\n",
    "    # make a new column that is called 'missing_col_name' that is 1 if the value is missing and 0 otherwise\n",
    "    df_copy[f'missing_{col}'] = column.isnull().astype(int)\n",
    "    categorize_cols = categorize_col(column, col)\n",
    "    df_copy = pd.concat([df_copy, categorize_cols], axis=1)\n",
    "    df_copy = df_copy.drop([col], axis=1)\n",
    "\n",
    "for col in binarize_cols:\n",
    "    df_copy[col] = df_copy[col].apply(lambda x: 1 if x == 0 else 0)\n",
    "\n",
    "\n",
    "one_hot_encoded_data = pd.get_dummies(df_copy, columns=['Marital_status','Application_order'], dtype=int)\n",
    "display(one_hot_encoded_data.head())\n",
    "\n",
    "#save the data as df\n",
    "one_hot_encoded_data.to_csv('../data/processed_data.csv', index=False)"
   ]
  },
  {
   "cell_type": "code",
   "execution_count": 3,
   "metadata": {},
   "outputs": [
    {
     "data": {
      "text/html": [
       "<div>\n",
       "<style scoped>\n",
       "    .dataframe tbody tr th:only-of-type {\n",
       "        vertical-align: middle;\n",
       "    }\n",
       "\n",
       "    .dataframe tbody tr th {\n",
       "        vertical-align: top;\n",
       "    }\n",
       "\n",
       "    .dataframe thead th {\n",
       "        text-align: right;\n",
       "    }\n",
       "</style>\n",
       "<table border=\"1\" class=\"dataframe\">\n",
       "  <thead>\n",
       "    <tr style=\"text-align: right;\">\n",
       "      <th></th>\n",
       "      <th>Daytime_evening_attendance</th>\n",
       "      <th>Displaced</th>\n",
       "      <th>Educational_special_needs</th>\n",
       "      <th>Debtor</th>\n",
       "      <th>Tuition_fees_up_to_date</th>\n",
       "      <th>Gender</th>\n",
       "      <th>Scholarship_holder</th>\n",
       "      <th>International</th>\n",
       "      <th>Target</th>\n",
       "      <th>Marital_status_1</th>\n",
       "      <th>...</th>\n",
       "      <th>Curricular_units_2nd_sem_approved_20</th>\n",
       "      <th>Curricular_units_2nd_sem_without_evaluations_0</th>\n",
       "      <th>Curricular_units_2nd_sem_without_evaluations_1</th>\n",
       "      <th>Curricular_units_2nd_sem_without_evaluations_2</th>\n",
       "      <th>Curricular_units_2nd_sem_without_evaluations_3</th>\n",
       "      <th>Curricular_units_2nd_sem_without_evaluations_4</th>\n",
       "      <th>Curricular_units_2nd_sem_without_evaluations_5</th>\n",
       "      <th>Curricular_units_2nd_sem_without_evaluations_6</th>\n",
       "      <th>Curricular_units_2nd_sem_without_evaluations_7</th>\n",
       "      <th>Curricular_units_2nd_sem_without_evaluations_8</th>\n",
       "    </tr>\n",
       "  </thead>\n",
       "  <tbody>\n",
       "    <tr>\n",
       "      <th>2194</th>\n",
       "      <td>1</td>\n",
       "      <td>1</td>\n",
       "      <td>0</td>\n",
       "      <td>0</td>\n",
       "      <td>1</td>\n",
       "      <td>1</td>\n",
       "      <td>1</td>\n",
       "      <td>0</td>\n",
       "      <td>Graduate</td>\n",
       "      <td>1</td>\n",
       "      <td>...</td>\n",
       "      <td>0</td>\n",
       "      <td>1</td>\n",
       "      <td>0</td>\n",
       "      <td>0</td>\n",
       "      <td>0</td>\n",
       "      <td>0</td>\n",
       "      <td>0</td>\n",
       "      <td>0</td>\n",
       "      <td>0</td>\n",
       "      <td>0</td>\n",
       "    </tr>\n",
       "    <tr>\n",
       "      <th>2029</th>\n",
       "      <td>1</td>\n",
       "      <td>1</td>\n",
       "      <td>0</td>\n",
       "      <td>0</td>\n",
       "      <td>1</td>\n",
       "      <td>1</td>\n",
       "      <td>0</td>\n",
       "      <td>0</td>\n",
       "      <td>Graduate</td>\n",
       "      <td>1</td>\n",
       "      <td>...</td>\n",
       "      <td>0</td>\n",
       "      <td>1</td>\n",
       "      <td>0</td>\n",
       "      <td>0</td>\n",
       "      <td>0</td>\n",
       "      <td>0</td>\n",
       "      <td>0</td>\n",
       "      <td>0</td>\n",
       "      <td>0</td>\n",
       "      <td>0</td>\n",
       "    </tr>\n",
       "    <tr>\n",
       "      <th>2098</th>\n",
       "      <td>1</td>\n",
       "      <td>0</td>\n",
       "      <td>0</td>\n",
       "      <td>0</td>\n",
       "      <td>1</td>\n",
       "      <td>0</td>\n",
       "      <td>1</td>\n",
       "      <td>0</td>\n",
       "      <td>Graduate</td>\n",
       "      <td>1</td>\n",
       "      <td>...</td>\n",
       "      <td>0</td>\n",
       "      <td>0</td>\n",
       "      <td>1</td>\n",
       "      <td>0</td>\n",
       "      <td>0</td>\n",
       "      <td>0</td>\n",
       "      <td>0</td>\n",
       "      <td>0</td>\n",
       "      <td>0</td>\n",
       "      <td>0</td>\n",
       "    </tr>\n",
       "    <tr>\n",
       "      <th>1994</th>\n",
       "      <td>1</td>\n",
       "      <td>1</td>\n",
       "      <td>0</td>\n",
       "      <td>0</td>\n",
       "      <td>1</td>\n",
       "      <td>0</td>\n",
       "      <td>1</td>\n",
       "      <td>0</td>\n",
       "      <td>Dropout</td>\n",
       "      <td>1</td>\n",
       "      <td>...</td>\n",
       "      <td>0</td>\n",
       "      <td>1</td>\n",
       "      <td>0</td>\n",
       "      <td>0</td>\n",
       "      <td>0</td>\n",
       "      <td>0</td>\n",
       "      <td>0</td>\n",
       "      <td>0</td>\n",
       "      <td>0</td>\n",
       "      <td>0</td>\n",
       "    </tr>\n",
       "    <tr>\n",
       "      <th>1501</th>\n",
       "      <td>1</td>\n",
       "      <td>1</td>\n",
       "      <td>0</td>\n",
       "      <td>1</td>\n",
       "      <td>1</td>\n",
       "      <td>1</td>\n",
       "      <td>0</td>\n",
       "      <td>0</td>\n",
       "      <td>Dropout</td>\n",
       "      <td>1</td>\n",
       "      <td>...</td>\n",
       "      <td>0</td>\n",
       "      <td>1</td>\n",
       "      <td>0</td>\n",
       "      <td>0</td>\n",
       "      <td>0</td>\n",
       "      <td>0</td>\n",
       "      <td>0</td>\n",
       "      <td>0</td>\n",
       "      <td>0</td>\n",
       "      <td>0</td>\n",
       "    </tr>\n",
       "  </tbody>\n",
       "</table>\n",
       "<p>5 rows × 984 columns</p>\n",
       "</div>"
      ],
      "text/plain": [
       "      Daytime_evening_attendance  Displaced  Educational_special_needs  \\\n",
       "2194                           1          1                          0   \n",
       "2029                           1          1                          0   \n",
       "2098                           1          0                          0   \n",
       "1994                           1          1                          0   \n",
       "1501                           1          1                          0   \n",
       "\n",
       "      Debtor  Tuition_fees_up_to_date  Gender  Scholarship_holder  \\\n",
       "2194       0                        1       1                   1   \n",
       "2029       0                        1       1                   0   \n",
       "2098       0                        1       0                   1   \n",
       "1994       0                        1       0                   1   \n",
       "1501       1                        1       1                   0   \n",
       "\n",
       "      International    Target  Marital_status_1  ...  \\\n",
       "2194              0  Graduate                 1  ...   \n",
       "2029              0  Graduate                 1  ...   \n",
       "2098              0  Graduate                 1  ...   \n",
       "1994              0   Dropout                 1  ...   \n",
       "1501              0   Dropout                 1  ...   \n",
       "\n",
       "      Curricular_units_2nd_sem_approved_20  \\\n",
       "2194                                     0   \n",
       "2029                                     0   \n",
       "2098                                     0   \n",
       "1994                                     0   \n",
       "1501                                     0   \n",
       "\n",
       "      Curricular_units_2nd_sem_without_evaluations_0  \\\n",
       "2194                                               1   \n",
       "2029                                               1   \n",
       "2098                                               0   \n",
       "1994                                               1   \n",
       "1501                                               1   \n",
       "\n",
       "      Curricular_units_2nd_sem_without_evaluations_1  \\\n",
       "2194                                               0   \n",
       "2029                                               0   \n",
       "2098                                               1   \n",
       "1994                                               0   \n",
       "1501                                               0   \n",
       "\n",
       "      Curricular_units_2nd_sem_without_evaluations_2  \\\n",
       "2194                                               0   \n",
       "2029                                               0   \n",
       "2098                                               0   \n",
       "1994                                               0   \n",
       "1501                                               0   \n",
       "\n",
       "      Curricular_units_2nd_sem_without_evaluations_3  \\\n",
       "2194                                               0   \n",
       "2029                                               0   \n",
       "2098                                               0   \n",
       "1994                                               0   \n",
       "1501                                               0   \n",
       "\n",
       "      Curricular_units_2nd_sem_without_evaluations_4  \\\n",
       "2194                                               0   \n",
       "2029                                               0   \n",
       "2098                                               0   \n",
       "1994                                               0   \n",
       "1501                                               0   \n",
       "\n",
       "      Curricular_units_2nd_sem_without_evaluations_5  \\\n",
       "2194                                               0   \n",
       "2029                                               0   \n",
       "2098                                               0   \n",
       "1994                                               0   \n",
       "1501                                               0   \n",
       "\n",
       "      Curricular_units_2nd_sem_without_evaluations_6  \\\n",
       "2194                                               0   \n",
       "2029                                               0   \n",
       "2098                                               0   \n",
       "1994                                               0   \n",
       "1501                                               0   \n",
       "\n",
       "      Curricular_units_2nd_sem_without_evaluations_7  \\\n",
       "2194                                               0   \n",
       "2029                                               0   \n",
       "2098                                               0   \n",
       "1994                                               0   \n",
       "1501                                               0   \n",
       "\n",
       "      Curricular_units_2nd_sem_without_evaluations_8  \n",
       "2194                                               0  \n",
       "2029                                               0  \n",
       "2098                                               0  \n",
       "1994                                               0  \n",
       "1501                                               0  \n",
       "\n",
       "[5 rows x 984 columns]"
      ]
     },
     "metadata": {},
     "output_type": "display_data"
    },
    {
     "name": "stdout",
     "output_type": "stream",
     "text": [
      "[[0 0 1]\n",
      " [0 0 1]\n",
      " [0 0 1]\n",
      " ...\n",
      " [0 0 1]\n",
      " [0 0 1]\n",
      " [0 0 1]]\n",
      "(2891, 983) (2891, 3) (723, 983) (723, 3)\n",
      "[[1 1 0 ... 0 0 0]\n",
      " [1 1 0 ... 0 0 0]\n",
      " [1 0 0 ... 0 0 0]\n",
      " ...\n",
      " [1 1 0 ... 0 0 0]\n",
      " [1 1 0 ... 0 0 0]\n",
      " [1 1 0 ... 0 0 0]]\n"
     ]
    },
    {
     "ename": "",
     "evalue": "",
     "output_type": "error",
     "traceback": [
      "\u001b[1;31mThe Kernel crashed while executing code in the current cell or a previous cell. \n",
      "\u001b[1;31mPlease review the code in the cell(s) to identify a possible cause of the failure. \n",
      "\u001b[1;31mClick <a href='https://aka.ms/vscodeJupyterKernelCrash'>here</a> for more info. \n",
      "\u001b[1;31mView Jupyter <a href='command:jupyter.viewOutput'>log</a> for further details."
     ]
    }
   ],
   "source": [
    "train, test = train_test_split(one_hot_encoded_data, test_size=0.2, random_state=42)\n",
    "display(train.head())\n",
    "train_x, train_y, test_x, test_y = train.drop('Target', axis=1), train['Target'], test.drop('Target', axis=1), test['Target']\n",
    "\n",
    "# one hot encode the train_y and test_y arrays\n",
    "encoded_train_y = pd.get_dummies(train_y, dtype=int)\n",
    "train_y = encoded_train_y.to_numpy(dtype=np.uint32)\n",
    "\n",
    "encoded_test_y = pd.get_dummies(test_y, dtype=int)\n",
    "test_y = encoded_test_y.to_numpy(dtype=np.uint32)\n",
    "\n",
    "# change x from df to numpy array\n",
    "train_x = train_x.to_numpy(dtype=np.uint8)\n",
    "test_x = test_x.to_numpy(dtype=np.uint8)\n",
    "\n",
    "print(train_y)\n",
    "print(train_x.shape, train_y.shape, test_x.shape, test_y.shape)\n",
    "print(train_x)"
   ]
  },
  {
   "cell_type": "code",
   "execution_count": 4,
   "metadata": {},
   "outputs": [
    {
     "name": "stderr",
     "output_type": "stream",
     "text": [
      "  0%|          | 0/20 [00:00<?, ?it/s]"
     ]
    }
   ],
   "source": [
    "# Training TM\n",
    "\n",
    "import green_tsetlin as gt\n",
    "\n",
    "tm = gt.TsetlinMachine(n_literals=train_x.shape[1],\n",
    "                       n_clauses=4000,\n",
    "                       n_classes=3,\n",
    "                       s=15.0,\n",
    "                       threshold=4200,\n",
    "                       literal_budget=50,\n",
    "                       multi_label=True\n",
    "                       )\n",
    "\n",
    "trainer = gt.Trainer(tm, seed=42, n_jobs=128, progress_bar=True)\n",
    "\n",
    "trainer.set_train_data(train_x, train_y)\n",
    "trainer.set_eval_data(test_x, test_y)\n",
    "\n",
    "trainer.train()"
   ]
  },
  {
   "cell_type": "code",
   "execution_count": 1,
   "metadata": {},
   "outputs": [
    {
     "data": {
      "application/vnd.plotly.v1+json": {
       "config": {
        "plotlyServerURL": "https://plot.ly"
       },
       "data": [
        {
         "mode": "lines",
         "name": "train",
         "type": "scatter",
         "x": [
          1,
          2,
          3,
          4,
          5,
          6,
          7,
          8,
          9,
          10,
          11,
          12,
          13,
          14,
          15,
          16,
          17,
          18,
          19,
          20
         ],
         "y": [
          0.6157039086821169,
          0.7198201314424074,
          0.7450709097198202,
          0.7506053268765133,
          0.75025942580422,
          0.7547561397440332,
          0.7692839847803529,
          0.7609823590453131,
          0.7658249740574196,
          0.7682462815634729,
          0.7692839847803529,
          0.774818401937046,
          0.7692839847803529,
          0.7723970944309927,
          0.7737806987201661,
          0.7820823244552058,
          0.7779315115876859,
          0.7921134555517122,
          0.7872708405396057,
          0.7890003459010723
         ]
        },
        {
         "mode": "lines",
         "name": "eval",
         "type": "scatter",
         "x": [
          1,
          2,
          3,
          4,
          5,
          6,
          7,
          8,
          9,
          10,
          11,
          12,
          13,
          14,
          15,
          16,
          17,
          18,
          19,
          20
         ],
         "y": [
          0.6998616874135546,
          0.715076071922545,
          0.719225449515906,
          0.706777316735823,
          0.7372060857538036,
          0.7482710926694329,
          0.7302904564315352,
          0.7330567081604425,
          0.7372060857538036,
          0.7316735822959889,
          0.7330567081604425,
          0.7455048409405256,
          0.7330567081604425,
          0.7372060857538036,
          0.7247579529737206,
          0.7413554633471646,
          0.7385892116182573,
          0.73582295988935,
          0.739972337482711,
          0.7385892116182573
         ]
        }
       ],
       "layout": {
        "height": 400,
        "template": {
         "data": {
          "bar": [
           {
            "error_x": {
             "color": "#2a3f5f"
            },
            "error_y": {
             "color": "#2a3f5f"
            },
            "marker": {
             "line": {
              "color": "#E5ECF6",
              "width": 0.5
             },
             "pattern": {
              "fillmode": "overlay",
              "size": 10,
              "solidity": 0.2
             }
            },
            "type": "bar"
           }
          ],
          "barpolar": [
           {
            "marker": {
             "line": {
              "color": "#E5ECF6",
              "width": 0.5
             },
             "pattern": {
              "fillmode": "overlay",
              "size": 10,
              "solidity": 0.2
             }
            },
            "type": "barpolar"
           }
          ],
          "carpet": [
           {
            "aaxis": {
             "endlinecolor": "#2a3f5f",
             "gridcolor": "white",
             "linecolor": "white",
             "minorgridcolor": "white",
             "startlinecolor": "#2a3f5f"
            },
            "baxis": {
             "endlinecolor": "#2a3f5f",
             "gridcolor": "white",
             "linecolor": "white",
             "minorgridcolor": "white",
             "startlinecolor": "#2a3f5f"
            },
            "type": "carpet"
           }
          ],
          "choropleth": [
           {
            "colorbar": {
             "outlinewidth": 0,
             "ticks": ""
            },
            "type": "choropleth"
           }
          ],
          "contour": [
           {
            "colorbar": {
             "outlinewidth": 0,
             "ticks": ""
            },
            "colorscale": [
             [
              0,
              "#0d0887"
             ],
             [
              0.1111111111111111,
              "#46039f"
             ],
             [
              0.2222222222222222,
              "#7201a8"
             ],
             [
              0.3333333333333333,
              "#9c179e"
             ],
             [
              0.4444444444444444,
              "#bd3786"
             ],
             [
              0.5555555555555556,
              "#d8576b"
             ],
             [
              0.6666666666666666,
              "#ed7953"
             ],
             [
              0.7777777777777778,
              "#fb9f3a"
             ],
             [
              0.8888888888888888,
              "#fdca26"
             ],
             [
              1,
              "#f0f921"
             ]
            ],
            "type": "contour"
           }
          ],
          "contourcarpet": [
           {
            "colorbar": {
             "outlinewidth": 0,
             "ticks": ""
            },
            "type": "contourcarpet"
           }
          ],
          "heatmap": [
           {
            "colorbar": {
             "outlinewidth": 0,
             "ticks": ""
            },
            "colorscale": [
             [
              0,
              "#0d0887"
             ],
             [
              0.1111111111111111,
              "#46039f"
             ],
             [
              0.2222222222222222,
              "#7201a8"
             ],
             [
              0.3333333333333333,
              "#9c179e"
             ],
             [
              0.4444444444444444,
              "#bd3786"
             ],
             [
              0.5555555555555556,
              "#d8576b"
             ],
             [
              0.6666666666666666,
              "#ed7953"
             ],
             [
              0.7777777777777778,
              "#fb9f3a"
             ],
             [
              0.8888888888888888,
              "#fdca26"
             ],
             [
              1,
              "#f0f921"
             ]
            ],
            "type": "heatmap"
           }
          ],
          "heatmapgl": [
           {
            "colorbar": {
             "outlinewidth": 0,
             "ticks": ""
            },
            "colorscale": [
             [
              0,
              "#0d0887"
             ],
             [
              0.1111111111111111,
              "#46039f"
             ],
             [
              0.2222222222222222,
              "#7201a8"
             ],
             [
              0.3333333333333333,
              "#9c179e"
             ],
             [
              0.4444444444444444,
              "#bd3786"
             ],
             [
              0.5555555555555556,
              "#d8576b"
             ],
             [
              0.6666666666666666,
              "#ed7953"
             ],
             [
              0.7777777777777778,
              "#fb9f3a"
             ],
             [
              0.8888888888888888,
              "#fdca26"
             ],
             [
              1,
              "#f0f921"
             ]
            ],
            "type": "heatmapgl"
           }
          ],
          "histogram": [
           {
            "marker": {
             "pattern": {
              "fillmode": "overlay",
              "size": 10,
              "solidity": 0.2
             }
            },
            "type": "histogram"
           }
          ],
          "histogram2d": [
           {
            "colorbar": {
             "outlinewidth": 0,
             "ticks": ""
            },
            "colorscale": [
             [
              0,
              "#0d0887"
             ],
             [
              0.1111111111111111,
              "#46039f"
             ],
             [
              0.2222222222222222,
              "#7201a8"
             ],
             [
              0.3333333333333333,
              "#9c179e"
             ],
             [
              0.4444444444444444,
              "#bd3786"
             ],
             [
              0.5555555555555556,
              "#d8576b"
             ],
             [
              0.6666666666666666,
              "#ed7953"
             ],
             [
              0.7777777777777778,
              "#fb9f3a"
             ],
             [
              0.8888888888888888,
              "#fdca26"
             ],
             [
              1,
              "#f0f921"
             ]
            ],
            "type": "histogram2d"
           }
          ],
          "histogram2dcontour": [
           {
            "colorbar": {
             "outlinewidth": 0,
             "ticks": ""
            },
            "colorscale": [
             [
              0,
              "#0d0887"
             ],
             [
              0.1111111111111111,
              "#46039f"
             ],
             [
              0.2222222222222222,
              "#7201a8"
             ],
             [
              0.3333333333333333,
              "#9c179e"
             ],
             [
              0.4444444444444444,
              "#bd3786"
             ],
             [
              0.5555555555555556,
              "#d8576b"
             ],
             [
              0.6666666666666666,
              "#ed7953"
             ],
             [
              0.7777777777777778,
              "#fb9f3a"
             ],
             [
              0.8888888888888888,
              "#fdca26"
             ],
             [
              1,
              "#f0f921"
             ]
            ],
            "type": "histogram2dcontour"
           }
          ],
          "mesh3d": [
           {
            "colorbar": {
             "outlinewidth": 0,
             "ticks": ""
            },
            "type": "mesh3d"
           }
          ],
          "parcoords": [
           {
            "line": {
             "colorbar": {
              "outlinewidth": 0,
              "ticks": ""
             }
            },
            "type": "parcoords"
           }
          ],
          "pie": [
           {
            "automargin": true,
            "type": "pie"
           }
          ],
          "scatter": [
           {
            "fillpattern": {
             "fillmode": "overlay",
             "size": 10,
             "solidity": 0.2
            },
            "type": "scatter"
           }
          ],
          "scatter3d": [
           {
            "line": {
             "colorbar": {
              "outlinewidth": 0,
              "ticks": ""
             }
            },
            "marker": {
             "colorbar": {
              "outlinewidth": 0,
              "ticks": ""
             }
            },
            "type": "scatter3d"
           }
          ],
          "scattercarpet": [
           {
            "marker": {
             "colorbar": {
              "outlinewidth": 0,
              "ticks": ""
             }
            },
            "type": "scattercarpet"
           }
          ],
          "scattergeo": [
           {
            "marker": {
             "colorbar": {
              "outlinewidth": 0,
              "ticks": ""
             }
            },
            "type": "scattergeo"
           }
          ],
          "scattergl": [
           {
            "marker": {
             "colorbar": {
              "outlinewidth": 0,
              "ticks": ""
             }
            },
            "type": "scattergl"
           }
          ],
          "scattermapbox": [
           {
            "marker": {
             "colorbar": {
              "outlinewidth": 0,
              "ticks": ""
             }
            },
            "type": "scattermapbox"
           }
          ],
          "scatterpolar": [
           {
            "marker": {
             "colorbar": {
              "outlinewidth": 0,
              "ticks": ""
             }
            },
            "type": "scatterpolar"
           }
          ],
          "scatterpolargl": [
           {
            "marker": {
             "colorbar": {
              "outlinewidth": 0,
              "ticks": ""
             }
            },
            "type": "scatterpolargl"
           }
          ],
          "scatterternary": [
           {
            "marker": {
             "colorbar": {
              "outlinewidth": 0,
              "ticks": ""
             }
            },
            "type": "scatterternary"
           }
          ],
          "surface": [
           {
            "colorbar": {
             "outlinewidth": 0,
             "ticks": ""
            },
            "colorscale": [
             [
              0,
              "#0d0887"
             ],
             [
              0.1111111111111111,
              "#46039f"
             ],
             [
              0.2222222222222222,
              "#7201a8"
             ],
             [
              0.3333333333333333,
              "#9c179e"
             ],
             [
              0.4444444444444444,
              "#bd3786"
             ],
             [
              0.5555555555555556,
              "#d8576b"
             ],
             [
              0.6666666666666666,
              "#ed7953"
             ],
             [
              0.7777777777777778,
              "#fb9f3a"
             ],
             [
              0.8888888888888888,
              "#fdca26"
             ],
             [
              1,
              "#f0f921"
             ]
            ],
            "type": "surface"
           }
          ],
          "table": [
           {
            "cells": {
             "fill": {
              "color": "#EBF0F8"
             },
             "line": {
              "color": "white"
             }
            },
            "header": {
             "fill": {
              "color": "#C8D4E3"
             },
             "line": {
              "color": "white"
             }
            },
            "type": "table"
           }
          ]
         },
         "layout": {
          "annotationdefaults": {
           "arrowcolor": "#2a3f5f",
           "arrowhead": 0,
           "arrowwidth": 1
          },
          "autotypenumbers": "strict",
          "coloraxis": {
           "colorbar": {
            "outlinewidth": 0,
            "ticks": ""
           }
          },
          "colorscale": {
           "diverging": [
            [
             0,
             "#8e0152"
            ],
            [
             0.1,
             "#c51b7d"
            ],
            [
             0.2,
             "#de77ae"
            ],
            [
             0.3,
             "#f1b6da"
            ],
            [
             0.4,
             "#fde0ef"
            ],
            [
             0.5,
             "#f7f7f7"
            ],
            [
             0.6,
             "#e6f5d0"
            ],
            [
             0.7,
             "#b8e186"
            ],
            [
             0.8,
             "#7fbc41"
            ],
            [
             0.9,
             "#4d9221"
            ],
            [
             1,
             "#276419"
            ]
           ],
           "sequential": [
            [
             0,
             "#0d0887"
            ],
            [
             0.1111111111111111,
             "#46039f"
            ],
            [
             0.2222222222222222,
             "#7201a8"
            ],
            [
             0.3333333333333333,
             "#9c179e"
            ],
            [
             0.4444444444444444,
             "#bd3786"
            ],
            [
             0.5555555555555556,
             "#d8576b"
            ],
            [
             0.6666666666666666,
             "#ed7953"
            ],
            [
             0.7777777777777778,
             "#fb9f3a"
            ],
            [
             0.8888888888888888,
             "#fdca26"
            ],
            [
             1,
             "#f0f921"
            ]
           ],
           "sequentialminus": [
            [
             0,
             "#0d0887"
            ],
            [
             0.1111111111111111,
             "#46039f"
            ],
            [
             0.2222222222222222,
             "#7201a8"
            ],
            [
             0.3333333333333333,
             "#9c179e"
            ],
            [
             0.4444444444444444,
             "#bd3786"
            ],
            [
             0.5555555555555556,
             "#d8576b"
            ],
            [
             0.6666666666666666,
             "#ed7953"
            ],
            [
             0.7777777777777778,
             "#fb9f3a"
            ],
            [
             0.8888888888888888,
             "#fdca26"
            ],
            [
             1,
             "#f0f921"
            ]
           ]
          },
          "colorway": [
           "#636efa",
           "#EF553B",
           "#00cc96",
           "#ab63fa",
           "#FFA15A",
           "#19d3f3",
           "#FF6692",
           "#B6E880",
           "#FF97FF",
           "#FECB52"
          ],
          "font": {
           "color": "#2a3f5f"
          },
          "geo": {
           "bgcolor": "white",
           "lakecolor": "white",
           "landcolor": "#E5ECF6",
           "showlakes": true,
           "showland": true,
           "subunitcolor": "white"
          },
          "hoverlabel": {
           "align": "left"
          },
          "hovermode": "closest",
          "mapbox": {
           "style": "light"
          },
          "paper_bgcolor": "white",
          "plot_bgcolor": "#E5ECF6",
          "polar": {
           "angularaxis": {
            "gridcolor": "white",
            "linecolor": "white",
            "ticks": ""
           },
           "bgcolor": "#E5ECF6",
           "radialaxis": {
            "gridcolor": "white",
            "linecolor": "white",
            "ticks": ""
           }
          },
          "scene": {
           "xaxis": {
            "backgroundcolor": "#E5ECF6",
            "gridcolor": "white",
            "gridwidth": 2,
            "linecolor": "white",
            "showbackground": true,
            "ticks": "",
            "zerolinecolor": "white"
           },
           "yaxis": {
            "backgroundcolor": "#E5ECF6",
            "gridcolor": "white",
            "gridwidth": 2,
            "linecolor": "white",
            "showbackground": true,
            "ticks": "",
            "zerolinecolor": "white"
           },
           "zaxis": {
            "backgroundcolor": "#E5ECF6",
            "gridcolor": "white",
            "gridwidth": 2,
            "linecolor": "white",
            "showbackground": true,
            "ticks": "",
            "zerolinecolor": "white"
           }
          },
          "shapedefaults": {
           "line": {
            "color": "#2a3f5f"
           }
          },
          "ternary": {
           "aaxis": {
            "gridcolor": "white",
            "linecolor": "white",
            "ticks": ""
           },
           "baxis": {
            "gridcolor": "white",
            "linecolor": "white",
            "ticks": ""
           },
           "bgcolor": "#E5ECF6",
           "caxis": {
            "gridcolor": "white",
            "linecolor": "white",
            "ticks": ""
           }
          },
          "title": {
           "x": 0.05
          },
          "xaxis": {
           "automargin": true,
           "gridcolor": "white",
           "linecolor": "white",
           "ticks": "",
           "title": {
            "standoff": 15
           },
           "zerolinecolor": "white",
           "zerolinewidth": 2
          },
          "yaxis": {
           "automargin": true,
           "gridcolor": "white",
           "linecolor": "white",
           "ticks": "",
           "title": {
            "standoff": 15
           },
           "zerolinecolor": "white",
           "zerolinewidth": 2
          }
         }
        },
        "title": {
         "text": "TM Train and Eval Log",
         "x": 0.5
        },
        "width": 600,
        "xaxis": {
         "autorange": true,
         "range": [
          1,
          20
         ],
         "title": {
          "text": "Epoch"
         },
         "type": "linear"
        },
        "yaxis": {
         "autorange": true,
         "range": [
          0.6059033783004727,
          0.8019139859333564
         ],
         "title": {
          "text": "Accuracy"
         },
         "type": "linear"
        }
       }
      },
      "image/png": "[encoded data removed]"
     },
     "metadata": {},
     "output_type": "display_data"
    }
   ],
   "source": [
    "import plotly.graph_objects as go\n",
    "import pickle\n",
    "train_log = pickle.load(open('tm_data/train_log.pkl',\"rb\"))\n",
    "eval_log = pickle.load(open('tm_data/eval_log.pkl',\"rb\"))\n",
    "\n",
    "fig = go.Figure()\n",
    "fig.add_trace(go.Scatter(x=list(range(1, len(train_log)+1)), y=train_log, mode='lines', name='train'))\n",
    "fig.add_trace(go.Scatter(x=list(range(1, len(eval_log)+1)), y=eval_log, mode='lines', name='eval'))\n",
    "fig.update_layout(title='TM Train and Eval Log',title_x=0.5, xaxis_title='Epoch', yaxis_title='Accuracy', width=600, height=400)\n",
    "fig.show()"
   ]
  },
  {
   "cell_type": "code",
   "execution_count": null,
   "metadata": {},
   "outputs": [],
   "source": [
    "# CHANGE THIS\n",
    "\n",
    "from time import perf_counter\n",
    "import random\n",
    "import pickle\n",
    "import os \n",
    "import uuid\n",
    "\n",
    "import numpy as np\n",
    "import pandas as pd\n",
    "from sklearn.datasets import fetch_openml\n",
    "from sklearn.model_selection import train_test_split\n",
    "import tqdm\n",
    "\n",
    "import green_tsetlin as gt\n",
    "\n",
    "tm_data_dir = \"tm_data\"\n",
    "tm_save_path = os.path.join(tm_data_dir, \"tm_state_v1.npz\")\n",
    "ds = gt.DenseState.load_from_file(tm_save_path)\n",
    "    \n",
    "rs = gt.RuleSet(False)\n",
    "rs.compile_from_dense_state(ds)\n",
    "\n",
    "print(rs.rules[0])\n",
    "print(rs.weights[0])\n",
    "\n",
    "predictor = gt.Predictor(explanation=\"none\", multi_label=False)\n",
    "predictor._set_ruleset(rs)\n",
    "predictor._allocate_backend()\n",
    "\n",
    "\n",
    "print(\"predictor.predict(x):\", predictor.predict(xe[1]))\n",
    "print(\"y true:\", ye[1])\n",
    "print(\"votes:\", predictor._inf.get_votes())"
   ]
  },
  {
   "cell_type": "code",
   "execution_count": null,
   "metadata": {},
   "outputs": [],
   "source": [
    "from sklearn.metrics import confusion_matrix\n",
    "import seaborn as sns\n",
    "import matplotlib.pyplot as plt\n",
    "\n",
    "class_names_map = {0: '*', 1: 'tan', 2: '(', 3: '6', 4: 'y', 5: '-', 6: '2', 7: '/', 8: '7', 9: '8', 10: ')', 11: '4', 12: 'sqrt', 13: '=', 14: '0', 15: 'sin', 16: '3', 17: '+', 18: '1', 19: 'cos', 20: 'z', 21: '9', 22: 'pi', 23: '5'}\n",
    "\n",
    "class_names = [class_names_map[i] for i in range(24)]\n",
    "\n",
    "y_preds = []\n",
    "for x in xe:\n",
    "    y_pred = predictor.predict(x)\n",
    "    y_preds.append(y_pred)\n",
    "\n",
    "print('accuracy:', np.mean(y_preds == ye))\n",
    "\n",
    "#print(ye)\n",
    "#print(y_preds)\n",
    "cm = confusion_matrix(ye, y_preds)\n",
    "plt.figure(figsize=(10, 10))\n",
    "sns.heatmap(cm, annot=True, fmt='d', cmap='Blues', xticklabels=class_names, yticklabels=class_names)\n",
    "plt.xlabel('Predicted')\n",
    "plt.ylabel('Actual')\n",
    "plt.title('Confusion Matrix')\n",
    "plt.show()"
   ]
  }
 ],
 "metadata": {
  "kernelspec": {
   "display_name": "ikt463",
   "language": "python",
   "name": "python3"
  },
  "language_info": {
   "codemirror_mode": {
    "name": "ipython",
    "version": 3
   },
   "file_extension": ".py",
   "mimetype": "text/x-python",
   "name": "python",
   "nbconvert_exporter": "python",
   "pygments_lexer": "ipython3",
   "version": "3.10.14"
  }
 },
 "nbformat": 4,
 "nbformat_minor": 4
}
